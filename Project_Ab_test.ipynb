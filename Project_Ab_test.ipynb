{
 "cells": [
  {
   "cell_type": "markdown",
   "id": "e42adf1b",
   "metadata": {},
   "source": [
    "# Proyecto Marketing Con A/B Test\n"
   ]
  },
  {
   "cell_type": "markdown",
   "id": "f04c104a",
   "metadata": {},
   "source": [
    "## Introduccion\n",
    "\n",
    "En el entorno altamente competitivo del comercio electrónico, identificar estrategias efectivas para aumentar los ingresos es esencial. Como analista de una gran tienda online, se ha trabajado en colaboración con el departamento de marketing para desarrollar una serie de hipótesis orientadas a mejorar el desempeño del negocio. Estas hipótesis abordan diferentes aspectos del embudo de conversión, la experiencia del usuario y el comportamiento de compra.\n",
    "\n",
    "Para tomar decisiones fundamentadas, es necesario evaluar y priorizar estas hipótesis en función de su impacto potencial, facilidad de implementación y confianza en su éxito. Posteriormente, se llevará a cabo un experimento controlado A/B para validar la efectividad de una de las hipótesis seleccionadas, utilizando datos reales de comportamiento de los usuarios."
   ]
  },
  {
   "cell_type": "markdown",
   "id": "332c637c",
   "metadata": {},
   "source": [
    "## Objetivo General\n",
    "\n",
    "Priorizar estratégicamente un conjunto de hipótesis de marketing mediante marcos analíticos y ejecutar un experimento A/B controlado con el fin de identificar cambios que generen un incremento significativo en los ingresos de la tienda online."
   ]
  },
  {
   "cell_type": "markdown",
   "id": "ab819eaa",
   "metadata": {},
   "source": [
    "## Descripcion de los Datos \n",
    "``/datasets/hypotheses_us.csv``:\n",
    "\n",
    "- Hypotheses: breves descripciones de las hipótesis.\n",
    "- Reach: alcance del usuario, en una escala del uno a diez.\n",
    "- Impact: impacto en los usuarios, en una escala del uno al diez.\n",
    "- Confidence: confianza en la hipótesis, en una escala del uno al diez.\n",
    "- Effort: los recursos necesarios para probar una hipótesis, en una escala del uno al diez. Cuanto mayor sea el valor Effort, más recursos requiere la prueba.\n",
    "\n",
    "``/datasets/orders_us.csv``:\n",
    "\n",
    "- transactionId: identificador de pedido.\n",
    "- visitorId: identificador del usuario que realizó el pedido.\n",
    "- date: fecha del pedido.\n",
    "- revenue: ingresos del pedido.\n",
    "- group: el grupo del test A/B al que pertenece el usuario.\n",
    "\n",
    "``/datasets/visits_us.csv``:\n",
    "\n",
    "- date: la fecha.\n",
    "- group: grupo de la prueba A/B.\n",
    "- visits: el número de visitas en la fecha especificada en el grupo de pruebas A/B especificado."
   ]
  },
  {
   "cell_type": "code",
   "execution_count": 97,
   "id": "ea571ac3",
   "metadata": {},
   "outputs": [],
   "source": [
    "# Cargar todas las librerias\n",
    "import pandas as pd \n",
    "import seaborn as sns\n",
    "import matplotlib.pyplot as plt\n",
    "import numpy as np"
   ]
  },
  {
   "cell_type": "code",
   "execution_count": 98,
   "id": "652e7cda",
   "metadata": {},
   "outputs": [],
   "source": [
    "# Designar las variables de los Dataframe \n",
    "\n",
    "hypotheses=pd.read_csv('/Users/ASUS/OneDrive/Documentos/Tripleten/Proyecto spring 10/hypotheses_us.csv', sep=';')\n",
    "orders=pd.read_csv('/Users/ASUS/OneDrive/Documentos/Tripleten/Proyecto spring 10/orders_us_export.csv', sep=',')\n",
    "visits=pd.read_csv('/Users/ASUS/OneDrive/Documentos/Tripleten/Proyecto spring 10/visits_us_export.csv', sep=',')\n"
   ]
  },
  {
   "cell_type": "markdown",
   "id": "1f4ec251",
   "metadata": {},
   "source": [
    "## Nombres asignados a los DataFrames\n",
    "\n",
    "Para garantizar un desarrollo estructurado y eficiente del proyecto, se asignaron nombres descriptivos a los *DataFrames* generados a partir de las consultas a los servidores. Esta práctica permite mantener un flujo de trabajo organizado y facilita la interpretación de los resultados en las distintas etapas del análisis. Las asignaciones realizadas son las siguientes:\n",
    "\n",
    "- `hypotheses`: corresponde al resultado de la consulta ``hypotheses_us``.\n",
    "- `orders`: corresponde al resultado de la consulta `orders_us_export`.\n",
    "- `visits`: corresponde al resultado de la consulta `visits_us_export`.\n",
    "\n",
    "A continuación, el análisis exploratorio de los datos."
   ]
  },
  {
   "cell_type": "code",
   "execution_count": 99,
   "id": "51c920b1",
   "metadata": {},
   "outputs": [
    {
     "name": "stdout",
     "output_type": "stream",
     "text": [
      "<class 'pandas.core.frame.DataFrame'>\n",
      "RangeIndex: 9 entries, 0 to 8\n",
      "Data columns (total 5 columns):\n",
      " #   Column      Non-Null Count  Dtype \n",
      "---  ------      --------------  ----- \n",
      " 0   Hypothesis  9 non-null      object\n",
      " 1   Reach       9 non-null      int64 \n",
      " 2   Impact      9 non-null      int64 \n",
      " 3   Confidence  9 non-null      int64 \n",
      " 4   Effort      9 non-null      int64 \n",
      "dtypes: int64(4), object(1)\n",
      "memory usage: 492.0+ bytes\n",
      "                                          Hypothesis  Reach  Impact  \\\n",
      "0  Add two new channels for attracting traffic. T...      3      10   \n",
      "1  Launch your own delivery service. This will sh...      2       5   \n",
      "2  Add product recommendation blocks to the store...      8       3   \n",
      "3  Change the category structure. This will incre...      8       3   \n",
      "4  Change the background color on the main page. ...      3       1   \n",
      "5  Add a customer review page. This will increase...      3       2   \n",
      "6  Show banners with current offers and sales on ...      5       3   \n",
      "7  Add a subscription form to all the main pages....     10       7   \n",
      "8  Launch a promotion that gives users discounts ...      1       9   \n",
      "\n",
      "   Confidence  Effort  \n",
      "0           8       6  \n",
      "1           4      10  \n",
      "2           7       3  \n",
      "3           3       8  \n",
      "4           1       1  \n",
      "5           2       3  \n",
      "6           8       3  \n",
      "7           8       5  \n",
      "8           9       5  \n"
     ]
    }
   ],
   "source": [
    "# Visualizacion preliminar de los dataframes:\n",
    "\n",
    "hypotheses.info()\n",
    "print(hypotheses)"
   ]
  },
  {
   "cell_type": "code",
   "execution_count": 100,
   "id": "b789e80a",
   "metadata": {},
   "outputs": [
    {
     "name": "stdout",
     "output_type": "stream",
     "text": [
      "<class 'pandas.core.frame.DataFrame'>\n",
      "RangeIndex: 1197 entries, 0 to 1196\n",
      "Data columns (total 5 columns):\n",
      " #   Column         Non-Null Count  Dtype  \n",
      "---  ------         --------------  -----  \n",
      " 0   transactionId  1197 non-null   int64  \n",
      " 1   visitorId      1197 non-null   int64  \n",
      " 2   date           1197 non-null   object \n",
      " 3   revenue        1197 non-null   float64\n",
      " 4   group          1197 non-null   object \n",
      "dtypes: float64(1), int64(2), object(2)\n",
      "memory usage: 46.9+ KB\n",
      "      transactionId   visitorId        date  revenue group\n",
      "476       457171476  1377447894  2019-08-28      5.6     B\n",
      "525      3031564664   393266494  2019-08-19    335.5     A\n",
      "5         182168103   935554773  2019-08-15     35.0     B\n",
      "497       246848596  3951559397  2019-08-29     40.3     A\n",
      "1042      265631116  3656415546  2019-08-11      5.8     B\n"
     ]
    }
   ],
   "source": [
    "# Visualizacion preliminar de los dataframes:\n",
    "\n",
    "orders.info()\n",
    "print( orders.sample(n=5))"
   ]
  },
  {
   "cell_type": "code",
   "execution_count": 101,
   "id": "60e63e96",
   "metadata": {},
   "outputs": [
    {
     "name": "stdout",
     "output_type": "stream",
     "text": [
      "<class 'pandas.core.frame.DataFrame'>\n",
      "RangeIndex: 62 entries, 0 to 61\n",
      "Data columns (total 3 columns):\n",
      " #   Column  Non-Null Count  Dtype \n",
      "---  ------  --------------  ----- \n",
      " 0   date    62 non-null     object\n",
      " 1   group   62 non-null     object\n",
      " 2   visits  62 non-null     int64 \n",
      "dtypes: int64(1), object(2)\n",
      "memory usage: 1.6+ KB\n",
      "          date group  visits\n",
      "40  2019-08-10     B     369\n",
      "23  2019-08-24     A     395\n",
      "5   2019-08-06     A     667\n",
      "53  2019-08-23     B     546\n",
      "8   2019-08-09     A     617\n"
     ]
    }
   ],
   "source": [
    "# Visualizacion preliminar de los dataframes:\n",
    "\n",
    "visits.info()\n",
    "print(visits.sample(n=5))"
   ]
  }
 ],
 "metadata": {
  "kernelspec": {
   "display_name": "Python 3",
   "language": "python",
   "name": "python3"
  },
  "language_info": {
   "codemirror_mode": {
    "name": "ipython",
    "version": 3
   },
   "file_extension": ".py",
   "mimetype": "text/x-python",
   "name": "python",
   "nbconvert_exporter": "python",
   "pygments_lexer": "ipython3",
   "version": "3.13.0"
  }
 },
 "nbformat": 4,
 "nbformat_minor": 5
}
